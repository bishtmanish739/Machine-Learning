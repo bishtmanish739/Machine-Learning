{
 "cells": [
  {
   "cell_type": "code",
   "execution_count": 5,
   "metadata": {},
   "outputs": [],
   "source": [
    "import numpy as np\n",
    "import pandas as pd\n",
    "\n",
    "\n",
    "data1=np.loadtxt(\"C:\\\\Users\\\\varun\\\\Desktop\\\\coding ninja ML course\\\\0000000000002417_training_boston_x_y_train.csv\", delimiter = \",\")\n",
    "data2=np.loadtxt(\"C:\\\\Users\\\\varun\\\\Desktop\\\\coding ninja ML course\\\\0000000000002417_test_boston_x_test.csv\", delimiter = \",\")"
   ]
  },
  {
   "cell_type": "code",
   "execution_count": 11,
   "metadata": {},
   "outputs": [
    {
     "name": "stderr",
     "output_type": "stream",
     "text": [
      "C:\\Users\\varun\\Anaconda3\\lib\\site-packages\\xgboost\\core.py:384: UserWarning: Use subset (sliced data) of np.ndarray is not recommended because it will generate extra copies and increase memory consumption\n",
      "  \"memory consumption\")\n"
     ]
    },
    {
     "name": "stdout",
     "output_type": "stream",
     "text": [
      "[21:44:42] WARNING: C:/Users/Administrator/workspace/xgboost-win64_release_1.0.0/src/objective/regression_obj.cu:167: reg:linear is now deprecated in favor of reg:squarederror.\n",
      "[ 15.58834934  27.99387169  14.45005035  21.31360817  21.53873062\n",
      "   9.95934105  29.14288902  25.94294739  17.7957592   22.49672127\n",
      "  23.5405674   16.35688782  18.16884422  19.70361137  50.84373474\n",
      "  19.06612968  23.14979172  22.41023254  18.44360733  29.91065788\n",
      "  20.38741302  21.28907776  36.79123306  31.65414238  29.88632202\n",
      "  15.68260765  21.38241959  31.86543465  20.32530594  27.26937294\n",
      "  18.76556969  24.42401123  17.87652779  23.00180817   7.80999422\n",
      "  25.19845772  22.98922539  20.23757744  22.51736259   7.8732934\n",
      "  14.35947609  23.39030647  26.19679642  18.22924614  21.63929749\n",
      "  10.58694267  43.38318253  23.90373802  35.29411316  13.77392292\n",
      "  12.05891323  47.58754349  13.35713673  19.98389053  17.27008057\n",
      "  19.75708008  17.97415161  22.71159935  14.8169651   15.57059383\n",
      "  13.8617897   27.28756332  24.35789299  24.24703026  15.15911674\n",
      "  18.03749084  34.78006363  11.73407459  19.22917938  21.42136574\n",
      "  26.56693077  22.1375618   16.41648483   7.63934946  41.58047485\n",
      "  22.96519852  25.97754097  25.13115692   9.17071152  32.47089386\n",
      "  21.41437912  21.23641586  19.6553936   18.70926285  15.88011169\n",
      "  36.52440262  24.86325455   9.29636002  20.75744438  15.80973816\n",
      "  21.10232544  19.86384964  17.56084442  11.29110622  20.54442787\n",
      "  24.13556862  48.91615295  18.36955643  35.94122696  23.31968307\n",
      "  23.34605026  21.1901474   22.37738037  28.2025547   13.841506\n",
      "  24.61861801  20.27474976  45.82325745  23.34060669  12.97117996\n",
      "  22.11382866  13.89814949  18.71825218  18.88642311  43.81319809\n",
      "  19.95075989  19.41801262  25.1343689   19.52099991  17.63959885\n",
      "  12.97594452  32.56299973  21.29815865  21.8160553   22.21933556\n",
      "  20.4483223   15.93122101]\n"
     ]
    }
   ],
   "source": [
    "train=data1[:,0:13]\n",
    "target=data1[:,13]\n",
    "import xgboost as xg1\n",
    "\n",
    "model = xg1.XGBRegressor(objective=\"reg:linear\", n_estimators=380, seed=100,max_depth=4)\n",
    "\n",
    "model.fit(train,target)\n",
    "\n",
    "prd = model.predict(data2)\n",
    "np.savetxt(\"C:\\\\Users\\\\varun\\\\Desktop\\\\varun2.csv\",prd)\n",
    "print(prd)"
   ]
  },
  {
   "cell_type": "code",
   "execution_count": null,
   "metadata": {
    "collapsed": true
   },
   "outputs": [],
   "source": []
  },
  {
   "cell_type": "code",
   "execution_count": null,
   "metadata": {
    "collapsed": true
   },
   "outputs": [],
   "source": []
  },
  {
   "cell_type": "code",
   "execution_count": null,
   "metadata": {
    "collapsed": true
   },
   "outputs": [],
   "source": []
  },
  {
   "cell_type": "code",
   "execution_count": null,
   "metadata": {
    "collapsed": true
   },
   "outputs": [],
   "source": []
  },
  {
   "cell_type": "code",
   "execution_count": null,
   "metadata": {
    "collapsed": true
   },
   "outputs": [],
   "source": []
  },
  {
   "cell_type": "code",
   "execution_count": null,
   "metadata": {
    "collapsed": true
   },
   "outputs": [],
   "source": []
  },
  {
   "cell_type": "code",
   "execution_count": null,
   "metadata": {
    "collapsed": true
   },
   "outputs": [],
   "source": []
  }
 ],
 "metadata": {
  "kernelspec": {
   "display_name": "Python 3",
   "language": "python",
   "name": "python3"
  },
  "language_info": {
   "codemirror_mode": {
    "name": "ipython",
    "version": 3
   },
   "file_extension": ".py",
   "mimetype": "text/x-python",
   "name": "python",
   "nbconvert_exporter": "python",
   "pygments_lexer": "ipython3",
   "version": "3.7.6"
  }
 },
 "nbformat": 4,
 "nbformat_minor": 2
}
